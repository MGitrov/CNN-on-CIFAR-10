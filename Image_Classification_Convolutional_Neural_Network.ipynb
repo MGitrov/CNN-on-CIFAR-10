{
 "cells": [
  {
   "cell_type": "code",
   "execution_count": null,
   "id": "79cecf9a",
   "metadata": {
    "id": "79cecf9a"
   },
   "outputs": [],
   "source": [
    "from matplotlib import pyplot as plt\n",
    "\n",
    "from keras.datasets import cifar10\n",
    "from keras.models import Sequential\n",
    "from keras.layers import Dense\n",
    "from keras.layers import Dropout\n",
    "from keras.layers import Flatten\n",
    "from keras.optimizers import gradient_descent_v2\n",
    "from keras.callbacks import EarlyStopping\n",
    "from keras.layers.convolutional import Conv2D\n",
    "from keras.layers.convolutional import MaxPooling2D"
   ]
  },
  {
   "cell_type": "code",
   "execution_count": null,
   "id": "f963de61",
   "metadata": {
    "id": "f963de61"
   },
   "outputs": [],
   "source": [
    "#Loads the CIFAR-10 dataset, and splits the data into train and test sets.\n",
    "(X_train, y_train), (X_test, y_test) = cifar10.load_data()"
   ]
  },
  {
   "cell_type": "markdown",
   "id": "981d1280",
   "metadata": {},
   "source": [
    "A colored image contains 3 color channels, namely, red, green and blue (RGB). Their pixel values range from 0-255.\n",
    "\n",
    "Every neuron’s input value gets multiplied with some weight value connected to this neuron. Consequently, multiplying weights with 255 would result in huge values which can cost high computational power. When dealing with even deeper neural networks (For instance YOLO or ResNet), the computational power would increase drastically.\n",
    "\n",
    "So, each pixel value will be normalized to be in the [0, 1] range by dividing each pixel value by the maximum value which is 255. Because each pixel value is of type integer, and every number in the [0, 1] range is a decimal number, we will have to cast every pixel value from integer to float."
   ]
  },
  {
   "cell_type": "code",
   "execution_count": null,
   "id": "5dcd76d1",
   "metadata": {
    "id": "5dcd76d1"
   },
   "outputs": [],
   "source": [
    "X_train = X_train.astype(\"float32\")\n",
    "X_test = X_test.astype(\"float32\")\n",
    "\n",
    "X_train = X_train / 255.0\n",
    "X_test = X_test / 255.0"
   ]
  },
  {
   "cell_type": "code",
   "execution_count": null,
   "id": "ab952421",
   "metadata": {
    "cellView": "code",
    "id": "ab952421"
   },
   "outputs": [],
   "source": [
    "cnn = Sequential()\n",
    "\n",
    "#After the first layer, there is no need to specify the size of the input anymore.\n",
    "cnn.add(layer = Conv2D(filters = 32, kernel_size = (3, 3), input_shape = (32, 32, 3), padding = \"same\", activation = \"relu\"))\n",
    "cnn.add(layer = Conv2D(filters = 32, kernel_size = (3, 3), padding = \"same\", activation = \"relu\"))\n",
    "cnn.add(layer = MaxPooling2D(pool_size = (2, 2)))\n",
    "cnn.add(layer = Dropout(rate = 0.2))\n",
    "\n",
    "cnn.add(layer = Conv2D(filters = 64, kernel_size = (3, 3), activation = \"relu\", padding = \"same\"))\n",
    "cnn.add(layer = Conv2D(filters = 64, kernel_size = (3, 3), activation = \"relu\", padding = \"same\"))\n",
    "cnn.add(layer = MaxPooling2D(pool_size = (2, 2)))\n",
    "cnn.add(layer = Dropout(rate = 0.2))\n",
    "\n",
    "cnn.add(layer = Conv2D(filters = 128, kernel_size = (3, 3), activation = \"relu\", padding = \"same\"))\n",
    "cnn.add(layer = Conv2D(filters = 128, kernel_size = (3, 3), activation = \"relu\", padding = \"same\"))\n",
    "cnn.add(layer = MaxPooling2D(pool_size = (2, 2)))\n",
    "cnn.add(layer = Dropout(rate = 0.2))\n",
    "\n",
    "cnn.add(layer = Flatten())\n",
    "cnn.add(layer = Dense(units = 128, activation = \"relu\"))\n",
    "cnn.add(layer = Dropout(rate = 0.2))\n",
    "\n",
    "#10 possible output classes.\n",
    "cnn.add(layer = Dense(units = 10, activation = \"softmax\"))"
   ]
  },
  {
   "cell_type": "code",
   "execution_count": null,
   "id": "050017f4",
   "metadata": {},
   "outputs": [],
   "source": [
    "optimizer = gradient_descent_v2.SGD(learning_rate = 0.01, momentum = 0.9)"
   ]
  },
  {
   "cell_type": "markdown",
   "id": "97bd457f",
   "metadata": {},
   "source": [
    "The cross entropy cost (or loss) function has been chosen, because we are predicting the likelihood of an example belonging to one of more than two classes, and the choice of the cost (or loss) function is directly related to the activation function we chose in the output layer of our neural network, which is the softmax activation function\n",
    "\n",
    "The labels expected to be provided to the neural network as integers and not OneHot, and hence the sparse_categorical_crossentropy has been selected."
   ]
  },
  {
   "cell_type": "code",
   "execution_count": null,
   "id": "dc68334d",
   "metadata": {
    "id": "dc68334d"
   },
   "outputs": [],
   "source": [
    "cnn.compile(optimizer = optimizer, loss = \"sparse_categorical_crossentropy\", metrics = [\"accuracy\"])"
   ]
  },
  {
   "cell_type": "code",
   "execution_count": null,
   "id": "ncQ8_8s1gFxt",
   "metadata": {
    "colab": {
     "base_uri": "https://localhost:8080/"
    },
    "id": "ncQ8_8s1gFxt",
    "outputId": "adccd7ab-c206-44fb-fc0e-16146a9bbc3e"
   },
   "outputs": [
    {
     "name": "stdout",
     "output_type": "stream",
     "text": [
      "Model: \"sequential_2\"\n",
      "_________________________________________________________________\n",
      " Layer (type)                Output Shape              Param #   \n",
      "=================================================================\n",
      " conv2d_8 (Conv2D)           (None, 32, 32, 32)        896       \n",
      "                                                                 \n",
      " conv2d_9 (Conv2D)           (None, 32, 32, 32)        9248      \n",
      "                                                                 \n",
      " max_pooling2d_4 (MaxPooling  (None, 16, 16, 32)       0         \n",
      " 2D)                                                             \n",
      "                                                                 \n",
      " dropout_6 (Dropout)         (None, 16, 16, 32)        0         \n",
      "                                                                 \n",
      " conv2d_10 (Conv2D)          (None, 16, 16, 64)        18496     \n",
      "                                                                 \n",
      " conv2d_11 (Conv2D)          (None, 16, 16, 64)        36928     \n",
      "                                                                 \n",
      " max_pooling2d_5 (MaxPooling  (None, 8, 8, 64)         0         \n",
      " 2D)                                                             \n",
      "                                                                 \n",
      " dropout_7 (Dropout)         (None, 8, 8, 64)          0         \n",
      "                                                                 \n",
      " conv2d_12 (Conv2D)          (None, 8, 8, 128)         73856     \n",
      "                                                                 \n",
      " conv2d_13 (Conv2D)          (None, 8, 8, 128)         147584    \n",
      "                                                                 \n",
      " max_pooling2d_6 (MaxPooling  (None, 4, 4, 128)        0         \n",
      " 2D)                                                             \n",
      "                                                                 \n",
      " dropout_8 (Dropout)         (None, 4, 4, 128)         0         \n",
      "                                                                 \n",
      " flatten_2 (Flatten)         (None, 2048)              0         \n",
      "                                                                 \n",
      " dense_4 (Dense)             (None, 128)               262272    \n",
      "                                                                 \n",
      " dropout_9 (Dropout)         (None, 128)               0         \n",
      "                                                                 \n",
      " dense_5 (Dense)             (None, 10)                1290      \n",
      "                                                                 \n",
      "=================================================================\n",
      "Total params: 550,570\n",
      "Trainable params: 550,570\n",
      "Non-trainable params: 0\n",
      "_________________________________________________________________\n"
     ]
    }
   ],
   "source": [
    "#Parameters are weights that are learnt during training.\n",
    "cnn.summary()"
   ]
  },
  {
   "cell_type": "code",
   "execution_count": null,
   "id": "bWu2sjNzHnCQ",
   "metadata": {
    "id": "bWu2sjNzHnCQ"
   },
   "outputs": [],
   "source": [
    "#Early stopping regularizer will terminate the training procedure once there is one consecutive epoch without at least 0.01 \n",
    "#of improvement on the test data.\n",
    "early_stopping_loss = EarlyStopping(monitor = \"val_loss\", min_delta = 0.01, patience = 1, verbose = 1, mode = \"min\")"
   ]
  },
  {
   "cell_type": "code",
   "execution_count": null,
   "id": "exEB_4AFNa2n",
   "metadata": {
    "colab": {
     "base_uri": "https://localhost:8080/"
    },
    "id": "exEB_4AFNa2n",
    "outputId": "097209ad-f748-4401-d3d3-83ab2a4a1ee2"
   },
   "outputs": [
    {
     "name": "stdout",
     "output_type": "stream",
     "text": [
      "Epoch 1/25\n",
      "781/781 [==============================] - 375s 479ms/step - loss: 1.9161 - accuracy: 0.2933 - val_loss: 1.5687 - val_accuracy: 0.4325\n",
      "Epoch 2/25\n",
      "781/781 [==============================] - 365s 468ms/step - loss: 1.4868 - accuracy: 0.4593 - val_loss: 1.3615 - val_accuracy: 0.5096\n",
      "Epoch 3/25\n",
      "781/781 [==============================] - 383s 490ms/step - loss: 1.2691 - accuracy: 0.5417 - val_loss: 1.1071 - val_accuracy: 0.5967\n",
      "Epoch 4/25\n",
      "781/781 [==============================] - 377s 483ms/step - loss: 1.1166 - accuracy: 0.6017 - val_loss: 0.9835 - val_accuracy: 0.6472\n",
      "Epoch 5/25\n",
      "781/781 [==============================] - 383s 490ms/step - loss: 1.0045 - accuracy: 0.6455 - val_loss: 0.8879 - val_accuracy: 0.6817\n",
      "Epoch 6/25\n",
      "781/781 [==============================] - 406s 520ms/step - loss: 0.8981 - accuracy: 0.6820 - val_loss: 0.8702 - val_accuracy: 0.6994\n",
      "Epoch 7/25\n",
      "781/781 [==============================] - 404s 517ms/step - loss: 0.8258 - accuracy: 0.7099 - val_loss: 0.7580 - val_accuracy: 0.7293\n",
      "Epoch 8/25\n",
      "781/781 [==============================] - 391s 501ms/step - loss: 0.7584 - accuracy: 0.7340 - val_loss: 0.7341 - val_accuracy: 0.7405\n",
      "Epoch 9/25\n",
      "781/781 [==============================] - 382s 489ms/step - loss: 0.7046 - accuracy: 0.7519 - val_loss: 0.6882 - val_accuracy: 0.7590\n",
      "Epoch 10/25\n",
      "781/781 [==============================] - 375s 480ms/step - loss: 0.6593 - accuracy: 0.7684 - val_loss: 0.6955 - val_accuracy: 0.7615\n",
      "Epoch 10: early stopping\n"
     ]
    }
   ],
   "source": [
    "training = cnn.fit(x = X_train, y = y_train, batch_size = 64, epochs = 25, callbacks = [early_stopping_loss], \n",
    "                   validation_data = (X_test, y_test), steps_per_epoch = int(50_000 / 64))"
   ]
  },
  {
   "cell_type": "code",
   "execution_count": null,
   "id": "J0O_IRB_B6cO",
   "metadata": {
    "colab": {
     "base_uri": "https://localhost:8080/"
    },
    "id": "J0O_IRB_B6cO",
    "outputId": "ab775dde-710d-4c75-d1a8-65a6e96cb619"
   },
   "outputs": [
    {
     "name": "stdout",
     "output_type": "stream",
     "text": [
      "313/313 [==============================] - 19s 60ms/step - loss: 0.6955 - accuracy: 0.7615\n",
      "76.15000009536743\n"
     ]
    }
   ],
   "source": [
    "loss, accuracy = cnn.evaluate(x = X_test, y = y_test)\n",
    "print(accuracy * 100)"
   ]
  },
  {
   "cell_type": "code",
   "execution_count": null,
   "id": "BZdujl7ER-rX",
   "metadata": {
    "colab": {
     "base_uri": "https://localhost:8080/",
     "height": 295
    },
    "id": "BZdujl7ER-rX",
    "outputId": "71b73c70-60e3-4856-876a-c6179be6b04f"
   },
   "outputs": [
    {
     "data": {
      "image/png": "[encoded data removed]",
      "text/plain": [
       "<Figure size 432x288 with 1 Axes>"
      ]
     },
     "metadata": {
      "needs_background": "light"
     },
     "output_type": "display_data"
    }
   ],
   "source": [
    "plt.plot(training.history[\"accuracy\"])\n",
    "plt.plot(training.history[\"val_accuracy\"])\n",
    "plt.title(\"Network's accuracy\")\n",
    "plt.ylabel(\"Accuracy\")\n",
    "plt.xlabel(\"# of epochs\")\n",
    "plt.legend([\"train\", \"val\"], loc = \"upper left\")\n",
    "plt.show()"
   ]
  },
  {
   "cell_type": "code",
   "execution_count": null,
   "id": "a3Ks0HWHoiyn",
   "metadata": {
    "colab": {
     "base_uri": "https://localhost:8080/",
     "height": 295
    },
    "id": "a3Ks0HWHoiyn",
    "outputId": "8a6e0f6f-2dae-45b5-a891-bc3b44087f65"
   },
   "outputs": [
    {
     "data": {
      "image/png": "[encoded data removed]",
      "text/plain": [
       "<Figure size 432x288 with 1 Axes>"
      ]
     },
     "metadata": {
      "needs_background": "light"
     },
     "output_type": "display_data"
    }
   ],
   "source": [
    "plt.plot(training.history[\"loss\"])\n",
    "plt.plot(training.history[\"val_loss\"])\n",
    "plt.title(\"Network's loss\")\n",
    "plt.ylabel(\"Loss\")\n",
    "plt.xlabel(\"# of epochs\")\n",
    "plt.legend([\"train\", \"val\"], loc = \"upper left\")\n",
    "plt.show()"
   ]
  },
  {
   "cell_type": "code",
   "execution_count": null,
   "id": "jqD2AiEtJyJu",
   "metadata": {
    "id": "jqD2AiEtJyJu"
   },
   "outputs": [],
   "source": [
    "cnn.save(filepath = \"final_model.h5\")"
   ]
  }
 ],
 "metadata": {
  "colab": {
   "collapsed_sections": [],
   "name": "Image Classification - Convolutional Neural Network.ipynb",
   "provenance": []
  },
  "kernelspec": {
   "display_name": "Python 3 (ipykernel)",
   "language": "python",
   "name": "python3"
  },
  "language_info": {
   "codemirror_mode": {
    "name": "ipython",
    "version": 3
   },
   "file_extension": ".py",
   "mimetype": "text/x-python",
   "name": "python",
   "nbconvert_exporter": "python",
   "pygments_lexer": "ipython3",
   "version": "3.9.12"
  }
 },
 "nbformat": 4,
 "nbformat_minor": 5
}
