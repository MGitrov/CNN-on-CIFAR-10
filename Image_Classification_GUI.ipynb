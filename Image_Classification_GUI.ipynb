{
 "cells": [
  {
   "cell_type": "code",
   "execution_count": 2,
   "metadata": {
    "id": "2ukH4GhhMKll"
   },
   "outputs": [],
   "source": [
    "from keras.models import load_model\n",
    "from keras.utils import load_img, img_to_array\n",
    "import numpy as np\n",
    "import tkinter as tk\n",
    "from tkinter import filedialog\n",
    "from tkinter import *\n",
    "from PIL import ImageTk, Image"
   ]
  },
  {
   "cell_type": "code",
   "execution_count": 3,
   "metadata": {
    "id": "CgCkY3cEMZmZ"
   },
   "outputs": [],
   "source": [
    "model = load_model(filepath = \"final_model.h5\")"
   ]
  },
  {
   "cell_type": "code",
   "execution_count": 4,
   "metadata": {
    "id": "p7dIKeJmJagV"
   },
   "outputs": [],
   "source": [
    "results = {0:\"Airplane\", 1:\"Automobile\", 2:\"Bird\", 3:\"Cat\", 4:\"Deer\", 5:\"Dog\", 6:\"Frog\", 7:\"Horse\", 8:\"Ship\", 9:\"Truck\"}"
   ]
  },
  {
   "cell_type": "code",
   "execution_count": 5,
   "metadata": {
    "colab": {
     "base_uri": "https://localhost:8080/",
     "height": 304
    },
    "id": "OJqkhMY7zd7i",
    "outputId": "0726eff9-5191-4bdd-beed-ed1d6a23051a"
   },
   "outputs": [],
   "source": [
    "main_window = tk.Tk()\n",
    "main_window.geometry(newGeometry = \"700x500\")\n",
    "main_window.title(string = \"Image Classification Project\")\n",
    "main_window.iconbitmap(bitmap = \"ICPG.ico\")\n",
    "main_window.configure(background = \"#D3D3D3\")\n",
    "label = Label(master = main_window, background = \"#D3D3D3\", font = (\"Georgia\", 20, \"bold\"))\n",
    "sign_image = Label(master = main_window)\n",
    "\n",
    "'''\n",
    "A function that will perform the classification process.\n",
    "'''\n",
    "\n",
    "def classification(filepath):\n",
    "    #Will load the input image and force it to the size of 32x32 pixels.\n",
    "    image = load_img(path = filepath, target_size = (32, 32))\n",
    "    \n",
    "    #Machines see an input image as an array of pixels, so we have to convert our input image into an array of pixels.\n",
    "    image = img_to_array(img = image)\n",
    "    \n",
    "    #Will reshape the array (We’ve now working with a numpy array and not the input image itself) into a single sample with \n",
    "    #3 dimensions (or channels).\n",
    "    image = image.reshape(1, 32, 32, 3)\n",
    "    \n",
    "    #The pixel values of the input image must be normalized as the pixel values we’ve trained the neural network upon.\n",
    "    image = image.astype(dtype = \"float32\")\n",
    "    image = image / 255.0\n",
    "    \n",
    "    #\"np.argmax()\" will return the index of the highest probability score in the probability array produced by the neural \n",
    "    #network.\n",
    "    result = results[np.argmax(a = model.predict(image))]\n",
    "    print(result)\n",
    "    \n",
    "    #Specifies the appearance of the result text.\n",
    "    label.configure(foreground = \"#000000\", text = result)\n",
    "    \n",
    "'''\n",
    "A function that will define the classification button.\n",
    "'''\n",
    "\n",
    "def classification_button(filepath):\n",
    "    #Will create the classification button with the functionality of the \"classification()\" function defined above. There is \n",
    "    #a need to use the lambda function here, because we do not want the \"classification()\" function to be executed as the user \n",
    "    #uploads the image, but only when he clicks the classify button (As we have parameters we need to pass to the \n",
    "    #\"classification()\" function, we must use parenthesis. But on the other hand, we do not want to invoke the function but \n",
    "    #to assign it to the command variable).\n",
    "    c_button = Button(master = main_window, command = lambda: classification(filepath), padx = 10, pady = 5, text = \"Classify\")\n",
    "    \n",
    "    #Specifies the location of the classification button.\n",
    "    c_button.place(relx = 0.4455, rely = 0.75)\n",
    "    \n",
    "    #Specifies the appearance of the classification button.\n",
    "    c_button.configure(background = \"#B22222\", font = (\"Helvetica\", 10, \"bold\"), foreground = \"#90EE90\")\n",
    "    \n",
    "'''\n",
    "A function that will enable the user to upload his image, and will display the uploaded image.\n",
    "'''\n",
    "    \n",
    "def image_uploading():\n",
    "    try:\n",
    "        #Gives the user the option to upload an image from his personal computer.\n",
    "        filepath = filedialog.askopenfilename()\n",
    "        \n",
    "        #Loads the image into the variable.\n",
    "        image_display = Image.open(fp = filepath)\n",
    "        \n",
    "        #Will modify the input image to a thumbnail version of itself, as we want a convenient representation of the input \n",
    "        #image to the user.\n",
    "        image_display.thumbnail(size = ((main_window.winfo_width() / 2.25), (main_window.winfo_height() / 2.25)))\n",
    "        \n",
    "        #Will convert the input image into a Tkinter-compatible image, so the image can be displayed to the user.\n",
    "        image_to_tk = ImageTk.PhotoImage(image = image_display)\n",
    "        \n",
    "        #Will create the “space” for the input image in the main window.\n",
    "        sign_image.configure(image = image_to_tk)\n",
    "        \n",
    "        #Will display the input image in the main window.\n",
    "        sign_image.image = image_to_tk\n",
    "        \n",
    "        #Invoke the \"classification_button()\" function which will show the user the classification button, and give him the \n",
    "        #option to classify the input image.\n",
    "        classification_button(filepath = filepath)\n",
    "        \n",
    "    except:\n",
    "        pass\n",
    "    \n",
    "#Will create the upload button with the functionality of the \"image_uploading()\" function defined above. There is no need to use \n",
    "#lambda here because we are not passing any parameters to the function, therefore the function will not be invoked until the \n",
    "#user clicks the upload image button.\n",
    "upload_button = Button(master = main_window, command = image_uploading, padx = 10, pady = 5, text = \"Upload Image\")\n",
    "\n",
    "#Specifies the appearance of the upload button.\n",
    "upload_button.configure(background = \"#808080\", font = (\"Helvetica\", 10, \"bold\"), foreground = \"#FFFFFF\")\n",
    "\n",
    "#Specifies the location of the upload button.\n",
    "upload_button.pack(side = BOTTOM, pady = 50)\n",
    "\n",
    "sign_image.pack(side = BOTTOM, expand = True)\n",
    "label.pack(side = TOP, expand = True)\n",
    "\n",
    "#Wherever there is a use of \"pack\" or \"place\" methods, it can be replaced with each other, or with the \"grid\" method as well.\n",
    "\n",
    "main_window.mainloop()"
   ]
  }
 ],
 "metadata": {
  "colab": {
   "collapsed_sections": [],
   "name": "Image Classification - GUI.ipynb",
   "provenance": []
  },
  "kernelspec": {
   "display_name": "Python 3 (ipykernel)",
   "language": "python",
   "name": "python3"
  },
  "language_info": {
   "codemirror_mode": {
    "name": "ipython",
    "version": 3
   },
   "file_extension": ".py",
   "mimetype": "text/x-python",
   "name": "python",
   "nbconvert_exporter": "python",
   "pygments_lexer": "ipython3",
   "version": "3.9.12"
  }
 },
 "nbformat": 4,
 "nbformat_minor": 1
}
