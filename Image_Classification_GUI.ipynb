{
 "cells": [
  {
   "cell_type": "code",
   "execution_count": 1,
   "metadata": {
    "id": "2ukH4GhhMKll"
   },
   "outputs": [],
   "source": [
    "from keras.models import load_model\n",
    "from keras.utils import load_img, img_to_array\n",
    "import numpy as np\n",
    "import tkinter as tk\n",
    "from tkinter import filedialog\n",
    "from tkinter import *\n",
    "from PIL import ImageTk, Image"
   ]
  },
  {
   "cell_type": "code",
   "execution_count": 2,
   "metadata": {
    "id": "CgCkY3cEMZmZ"
   },
   "outputs": [],
   "source": [
    "model = load_model(filepath = \"final_model.h5\")"
   ]
  },
  {
   "cell_type": "code",
   "execution_count": 3,
   "metadata": {
    "id": "p7dIKeJmJagV"
   },
   "outputs": [],
   "source": [
    "results = {0:\"Airplane\", 1:\"Automobile\", 2:\"Bird\", 3:\"Cat\", 4:\"Deer\", 5:\"Dog\", 6:\"Frog\", 7:\"Horse\", 8:\"Ship\", 9:\"Truck\"}"
   ]
  },
  {
   "cell_type": "code",
   "execution_count": 5,
   "metadata": {
    "colab": {
     "base_uri": "https://localhost:8080/",
     "height": 304
    },
    "id": "OJqkhMY7zd7i",
    "outputId": "0726eff9-5191-4bdd-beed-ed1d6a23051a"
   },
   "outputs": [
    {
     "name": "stdout",
     "output_type": "stream",
     "text": [
      "1/1 [==============================] - 0s 38ms/step\n",
      "Airplane\n",
      "1/1 [==============================] - 0s 43ms/step\n",
      "Automobile\n",
      "1/1 [==============================] - 0s 37ms/step\n",
      "Bird\n",
      "1/1 [==============================] - 0s 37ms/step\n",
      "Deer\n",
      "1/1 [==============================] - 0s 40ms/step\n",
      "Frog\n",
      "1/1 [==============================] - 0s 36ms/step\n",
      "Ship\n",
      "1/1 [==============================] - 0s 33ms/step\n",
      "Truck\n",
      "1/1 [==============================] - 0s 39ms/step\n",
      "Airplane\n"
     ]
    }
   ],
   "source": [
    "main_window = tk.Tk()\n",
    "main_window.geometry(newGeometry = \"700x500\")\n",
    "main_window.title(string = \"Image Classification Project\")\n",
    "main_window.iconbitmap(bitmap = \"ICPG.ico\")\n",
    "main_window.configure(background = \"#D3D3D3\")\n",
    "label = Label(master = main_window, background = \"#D3D3D3\", font = (\"Georgia\", 20, \"bold\"))\n",
    "sign_image = Label(master = main_window)\n",
    "\n",
    "def classification(filepath):\n",
    "    #Image loading & manipulation\n",
    "    image = load_img(path = filepath, target_size = (32, 32))\n",
    "    image = img_to_array(img = image)\n",
    "    image = image.reshape(1, 32, 32, 3)\n",
    "    image = image.astype(dtype = \"float32\")\n",
    "    image = image / 255.0\n",
    "    \n",
    "    #Image classification\n",
    "    result = results[np.argmax(a = model.predict(image))]\n",
    "    print(result)\n",
    "    label.configure(foreground = \"#000000\", text = result)\n",
    "    \n",
    "def classification_button(filepath):\n",
    "    c_button = Button(master = main_window, command = lambda: classification(filepath), padx = 10, pady = 5, text = \"Classify\")\n",
    "    c_button.place(relx = 0.4455, rely = 0.75)\n",
    "    c_button.configure(background = \"#B22222\", font = (\"Helvetica\", 10, \"bold\"), foreground = \"#90EE90\")\n",
    "    \n",
    "def image_uploading():\n",
    "    try:\n",
    "        filepath = filedialog.askopenfilename()\n",
    "        image_display = Image.open(fp = filepath)\n",
    "        image_display.thumbnail(size = ((main_window.winfo_width() / 2.25), (main_window.winfo_height() / 2.25)))\n",
    "        image_to_tk = ImageTk.PhotoImage(image = image_display)\n",
    "        sign_image.configure(image = image_to_tk)\n",
    "        sign_image.image = image_to_tk\n",
    "        classification_button(filepath = filepath)\n",
    "        \n",
    "    except:\n",
    "        pass\n",
    "    \n",
    "upload_button = Button(master = main_window, command = image_uploading, padx = 10, pady = 5, text = \"Upload Image\")\n",
    "upload_button.configure(background = \"#808080\", font = (\"Helvetica\", 10, \"bold\"), foreground = \"#FFFFFF\")\n",
    "upload_button.pack(side = BOTTOM, pady = 50)\n",
    "\n",
    "sign_image.pack(side = BOTTOM, expand = True)\n",
    "label.pack(side = TOP, expand = True)\n",
    "\n",
    "main_window.mainloop()"
   ]
  },
  {
   "cell_type": "code",
   "execution_count": null,
   "metadata": {},
   "outputs": [],
   "source": []
  }
 ],
 "metadata": {
  "colab": {
   "collapsed_sections": [],
   "name": "Image Classification - GUI.ipynb",
   "provenance": []
  },
  "kernelspec": {
   "display_name": "Python 3 (ipykernel)",
   "language": "python",
   "name": "python3"
  },
  "language_info": {
   "codemirror_mode": {
    "name": "ipython",
    "version": 3
   },
   "file_extension": ".py",
   "mimetype": "text/x-python",
   "name": "python",
   "nbconvert_exporter": "python",
   "pygments_lexer": "ipython3",
   "version": "3.9.12"
  }
 },
 "nbformat": 4,
 "nbformat_minor": 1
}
